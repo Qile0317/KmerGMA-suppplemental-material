{
 "cells": [
  {
   "attachments": {},
   "cell_type": "markdown",
   "metadata": {},
   "source": [
    "# Script to conduct true and false positive rate analysis\n",
    "___"
   ]
  },
  {
   "cell_type": "code",
   "execution_count": 14,
   "metadata": {},
   "outputs": [
    {
     "name": "stdout",
     "output_type": "stream",
     "text": [
      "complete\n"
     ]
    },
    {
     "name": "stderr",
     "output_type": "stream",
     "text": [
      "WARNING: replacing module KmerGMA.\n",
      "WARNING: redefinition of constant NUCLEOTIDE_BITS. This may fail, cause incorrect answers, or produce other errors.\n"
     ]
    }
   ],
   "source": [
    "#using Pkg\n",
    "#Pkg.add(PackageSpec(name=\"KmerGMA\", url = \"https://github.com/Qile0317/KmerGMA.jl.git\"))\n",
    "using BenchmarkTools, BioSequences, BioAlignments, FASTX, Distances, Random #Main.KmerGMA, \n",
    "using Plots\n",
    "\n",
    "module KmerGMA\n",
    "    using BioSequences, FASTX, Distances, Random\n",
    "     #WebBlast, Statistics, StringDistances, StatsBase, StatsPlots, DataFrames\n",
    "    include(\"C:/Users/lu_41/.julia/dev/KmerGMA/src/simpleExplore.jl\")\n",
    "    include(\"C:/Users/lu_41/.julia/dev/KmerGMA/src/ExactMatch.jl\")\n",
    "    #include(\"kmerCount.jl\")\n",
    "    include(\"C:/Users/lu_41/.julia/dev/KmerGMA/src/GMAutils.jl\")\n",
    "    include(\"C:/Users/lu_41/.julia/dev/KmerGMA/src/RefGen.jl\")\n",
    "    include(\"C:/Users/lu_41/.julia/dev/KmerGMA/src/GMA.jl\")\n",
    "    include(\"C:/Users/lu_41/.julia/dev/KmerGMA/src/GMA_Nless.jl\")\n",
    "    include(\"C:/Users/lu_41/.julia/dev/KmerGMA/src/API.jl\")\n",
    "end\n",
    "\n",
    "refile = \"C:/Users/lu_41/.julia/dev/KmerGMA/test/Alp_V_ref.fasta\"\n",
    "single_ref_in_file = \"C:/Users/lu_41/.julia/dev/KmerGMA/test/single_V_ref.fasta\"\n",
    "refile_cl2 = \"C:/Users/lu_41/.julia/dev/KmerGMA/test/Alp_V_2.fasta\"\n",
    "human_refile = \"C:/Users/lu_41/.julia/dev/KmerGMA/benchmark/Seqs/References/humans.fasta\"\n",
    "\n",
    "reference_KFV = KmerGMA.gen_ref(refile,6) # ignore for now\n",
    "single_ref_KFV = KmerGMA.gen_ref(single_ref_in_file,6)\n",
    "ref_cl2_KFV = KmerGMA.gen_ref(refile_cl2,6)\n",
    "\n",
    "const NUCLEOTIDE_BITS = Dict{BioSequences.DNA, UInt}(\n",
    "    DNA_A => unsigned(0),\n",
    "    DNA_C => unsigned(1),\n",
    "    DNA_G => unsigned(2),\n",
    "    DNA_T => unsigned(3),\n",
    "    DNA_N => unsigned(3) \n",
    ") \n",
    "println(\"complete\")"
   ]
  },
  {
   "cell_type": "code",
   "execution_count": 18,
   "metadata": {},
   "outputs": [
    {
     "data": {
      "text/plain": [
       "296nt DNA Sequence:\n",
       "CAGGTCCAGCTGGTGCAGCCAGGGGCTGAGCTGAGGAAG…GAGATCTGAGGACACGGCCGTGTGTTACTGTGTGAGAGA"
      ]
     },
     "metadata": {},
     "output_type": "display_data"
    }
   ],
   "source": [
    "using BioSequences, FASTX, Random, BioAlignments#, KmerGMA\n",
    "vgene = dna\"caggtccagctggtgcagccaggggctgagctgaggaagcctggggctttgctgaaggtctcctgcaaggcttctggatacaccttcaccagctactacatagactgggtgcgacaggcccctggacaagggcttgggtgggtgggaagaattgaccctgaagacggtggcacaaattatgcacagaagttccagggcagagtcaccttgactgcagacacgtccaccagcacagcctacgtggagctgagcagtctgagatctgaggacacggccgtgtgttactgtgtgagaga\""
   ]
  },
  {
   "attachments": {},
   "cell_type": "markdown",
   "metadata": {},
   "source": [
    "Custom version of the KmerGMA algorithm for testing single sequences"
   ]
  },
  {
   "cell_type": "code",
   "execution_count": 16,
   "metadata": {},
   "outputs": [
    {
     "data": {
      "text/plain": [
       "gma_seq (generic function with 1 method)"
      ]
     },
     "metadata": {},
     "output_type": "display_data"
    }
   ],
   "source": [
    "const char_ints = Set(['0', '1', '2', '3', '4', '5', '6', '7', '8', '9'])\n",
    "\n",
    "function cigar_to_UnitRange(aligned_obj)\n",
    "    cigar_str::String = cigar(aligned_obj.aln.a.aln)\n",
    "    curr_num, char_count, num_sum, lower = 0, 0, 0, 0\n",
    "    n = length(cigar_str)\n",
    "    for i in 1:n\n",
    "        if i == n; return (lower+1):num_sum; end \n",
    "        if cigar_str[i] in char_ints\n",
    "            curr_num = (curr_num * 10) + parse(Int, cigar_str[i])\n",
    "        else\n",
    "            char_count += 1\n",
    "            if char_count == 1; lower = curr_num end\n",
    "            num_sum += curr_num\n",
    "            curr_num = 0\n",
    "        end\n",
    "    end\n",
    "end\n",
    "\n",
    "function gma_seq(;\n",
    "    seq::LongSequence{DNAAlphabet{4}},\n",
    "    k::Int64 = 6,\n",
    "    refVec::Vector{Float64} = single_ref_KFV,\n",
    "    windowsize::Int64 = 296,\n",
    "    thr::Union{Int64, Float64} = 30,\n",
    "    buff::Int64 = 50,\n",
    "    curr_kmer_freq::Vector{Float64} = zeros(4096), \n",
    "    mask::UInt64 = unsigned(4095), \n",
    "    Nt_bits::Dict{DNA, UInt64} = NUCLEOTIDE_BITS,\n",
    "    ScaleFactor::Float64 = 0.0833333333333333333333,\n",
    "    score_model::AffineGapScoreModel{Int64} = AffineGapScoreModel(EDNAFULL, gap_open=-69, gap_extend=-1),\n",
    "    vgene::LongSequence{DNAAlphabet{4}} = vgene,\n",
    "    do_align::Bool = true,\n",
    "    do_return_dists::Bool = false\n",
    "    )\n",
    "\n",
    "    resultVec = FASTA.Record[]\n",
    "    if do_return_dists; dist_vec = Float64[] end \n",
    "\n",
    "    proceed::Bool, goal_ind::Int64, upcoming_n::Int64 = true, 0, 0\n",
    "\n",
    "    #edge case\n",
    "    sequence_length = length(seq)\n",
    "    if sequence_length < windowsize; return end\n",
    "\n",
    "    #initial operations for the first window  \n",
    "    fill!(curr_kmer_freq, 0)\n",
    "    KmerGMA.kmer_count!(str = view(seq, 1:windowsize), k = k,\n",
    "    bins = curr_kmer_freq, mask = mask, Nt_bits = Nt_bits)\n",
    "    currSqrEuc = Distances.sqeuclidean(refVec, curr_kmer_freq)\n",
    "\n",
    "    #initializing variables\n",
    "    CMI, stop, currminim = 2, true, currSqrEuc\n",
    "\n",
    "    #left kmer initialization\n",
    "    left_kmer = unsigned(0)\n",
    "    for c in seq[1:k-1]\n",
    "        left_kmer = (left_kmer << 2) + Nt_bits[c]\n",
    "    end\n",
    "\n",
    "    #right kmer initialization\n",
    "    right_kmer = unsigned(0)\n",
    "    for c in seq[windowsize-k+1:windowsize-1]\n",
    "        right_kmer = (right_kmer << 2) + Nt_bits[c]\n",
    "    end\n",
    "\n",
    "    for i in 1:(sequence_length-windowsize)\n",
    "        # first kmer\n",
    "        left_kmer = ((left_kmer << 2) & mask) + Nt_bits[seq[i+k-1]]\n",
    "        left_ind = -~left_kmer\n",
    "        @views currSqrEuc -= (refVec[left_ind]-curr_kmer_freq[left_ind])^2 \n",
    "        curr_kmer_freq[left_ind] -= 1\n",
    "        @views currSqrEuc += (refVec[left_ind]-curr_kmer_freq[left_ind])^2\n",
    "\n",
    "        # newest kmer\n",
    "        right_kmer = ((right_kmer << 2) & mask) + Nt_bits[seq[i+windowsize-1]]\n",
    "        right_ind = -~right_kmer\n",
    "        @views currSqrEuc -= (refVec[right_ind]-curr_kmer_freq[right_ind])^2\n",
    "        curr_kmer_freq[right_ind] += 1\n",
    "        @views currSqrEuc += (refVec[right_ind]-curr_kmer_freq[right_ind])^2\n",
    "\n",
    "        # convert to kmer Distance \n",
    "        kmerDist = currSqrEuc * ScaleFactor \n",
    "        if do_return_dists; push!(dist_vec, kmerDist) end \n",
    "\n",
    "        # minima finder\n",
    "        if kmerDist < thr\n",
    "            if kmerDist < currminim\n",
    "                currminim = kmerDist\n",
    "                CMI = i\n",
    "                stop = false\n",
    "            end\n",
    "        elseif !stop\n",
    "            if !proceed \n",
    "                if CMI > goal_ind\n",
    "                    proceed = true\n",
    "                end\n",
    "            else # operations here aren't optimized but for actual long sequences the time is negligible\n",
    "                goal_ind = CMI + windowsize - 1\n",
    "                proceed = false \n",
    "                \n",
    "                # alignment and matched unitrange\n",
    "                left_ind, right_ind = max(CMI-buff,1), min(CMI+windowsize-1+buff,sequence_length)\n",
    "                if do_align \n",
    "                    aligned_obj = pairalign(SemiGlobalAlignment(),vgene,view(seq,left_ind:right_ind),score_model)\n",
    "                    aligned_UnitRange = cigar_to_UnitRange(cigar(aligned_obj.aln.a.aln))\n",
    "                    seq_UnitRange = max(1, left_ind+first(aligned_UnitRange)-1):min(left_ind+last(aligned_UnitRange)-1, sequence_length)\n",
    "                else\n",
    "                    seq_UnitRange = left_ind:right_ind\n",
    "                end\n",
    "\n",
    "                #create record\n",
    "                rec = FASTA.Record(\"test\",view(seq, seq_UnitRange))\n",
    "                push!(resultVec, rec)\n",
    "                currminim = currSqrEuc\n",
    "                stop = true\n",
    "            end\n",
    "        end\n",
    "    end\n",
    "    if do_return_dists; return resultVec, dist_vec end\n",
    "    return resultVec\n",
    "end\n",
    "\n",
    "# it is expected to work until approximately 0.2 mutation rate with the selected threshold"
   ]
  },
  {
   "attachments": {},
   "cell_type": "markdown",
   "metadata": {},
   "source": [
    "Functions to introduce random substitutions and Indels to the reference sequence "
   ]
  },
  {
   "cell_type": "code",
   "execution_count": 7,
   "metadata": {},
   "outputs": [
    {
     "data": {
      "text/plain": [
       "gma_tester (generic function with 1 method)"
      ]
     },
     "metadata": {},
     "output_type": "display_data"
    }
   ],
   "source": [
    "const mutation_dict = Dict{DNA, Vector{DNA}}(\n",
    "    DNA_A => DNA[DNA_C, DNA_G, DNA_T],\n",
    "    DNA_C => DNA[DNA_A, DNA_G, DNA_T],\n",
    "    DNA_G => DNA[DNA_C, DNA_A, DNA_T],\n",
    "    DNA_T => DNA[DNA_C, DNA_G, DNA_A]\n",
    ")\n",
    "\n",
    "const new_mutation_dict = Dict{DNA, Vector{LongSequence{DNAAlphabet{4}}}}(\n",
    "    DNA_A => [dna\"C\", dna\"G\", dna\"T\"],\n",
    "    DNA_C => [dna\"A\", dna\"G\", dna\"T\"],\n",
    "    DNA_G => [dna\"C\", dna\"A\", dna\"T\"],\n",
    "    DNA_T => [dna\"C\", dna\"G\", dna\"A\"]\n",
    ")\n",
    "\n",
    "function mutate_seq!(seq::LongSequence{DNAAlphabet{4}}, mut_rate::Float64)\n",
    "    for i in 1:length(seq)\n",
    "        if rand(1)[1] <= mut_rate\n",
    "            seq[i] = rand(mutation_dict[seq[i]])\n",
    "        end\n",
    "    end\n",
    "end\n",
    "\n",
    "function indel_seq(seq::LongSequence{DNAAlphabet{4}}, indel_rate::Float64)\n",
    "    curr_len, i = length(seq), 1\n",
    "    while i < curr_len\n",
    "        if rand(1)[1] <= indel_rate\n",
    "            if rand([\"\", \"del\"]) == \"del\"\n",
    "                seq = seq[1:i-1]*seq[i+1:end]*rand(new_mutation_dict[seq[i]])\n",
    "                curr_len -= 1\n",
    "            else\n",
    "                seq = seq[1:i]*rand(new_mutation_dict[seq[i]])*seq[i+1:end]\n",
    "                i += 2\n",
    "            end\n",
    "        else\n",
    "            i += 1\n",
    "        end\n",
    "    end\n",
    "    return seq\n",
    "end \n",
    "\n",
    "function gma_tester(;mut_range::StepRangeLen = 0:0.005:0.2, n::Int = 50, seq::LongSequence{DNAAlphabet{4}} = vgene, do_mut::Bool = true)\n",
    "    edit_dist_vec = Vector{Int64}[]\n",
    "    for trial in 1:n\n",
    "        curr_vec = Int64[]\n",
    "        for curr_mut_rate in mut_range\n",
    "            Random.seed!(trial)\n",
    "            new_seq = copy(seq)\n",
    "            if do_mut\n",
    "                mutate_seq!(new_seq, curr_mut_rate)\n",
    "            else\n",
    "                new_seq = indel_seq(new_seq, curr_mut_rate)\n",
    "            end\n",
    "\n",
    "            search_seq = randdnaseq(400)*new_seq*randdnaseq(400)\n",
    "            #lsq = length(search_seq)\n",
    "\n",
    "            result = gma_seq(seq = search_seq, thr = 30.0, do_align = true, buff = 50, k = 4, refVec = KmerGMA.gen_ref(single_ref_in_file, 4), ScaleFactor = 0.125, curr_kmer_freq = zeros(4^4), mask = unsigned(4^4-1))\n",
    "            if !isempty(result)\n",
    "                result = KmerGMA.getSeq(result[1])\n",
    "                push!(curr_vec, edit_dist(result, new_seq))\n",
    "            else\n",
    "                push!(curr_vec, 296)\n",
    "            end\n",
    "        end\n",
    "        push!(edit_dist_vec, curr_vec)\n",
    "    end\n",
    "    return edit_dist_vec\n",
    "end"
   ]
  },
  {
   "attachments": {},
   "cell_type": "markdown",
   "metadata": {},
   "source": [
    "Functions to measure the edit distance of two dna sequences"
   ]
  },
  {
   "cell_type": "code",
   "execution_count": 8,
   "metadata": {},
   "outputs": [
    {
     "data": {
      "text/plain": [
       "edit_dist (generic function with 1 method)"
      ]
     },
     "metadata": {},
     "output_type": "display_data"
    }
   ],
   "source": [
    "function common_prefix(s1::LongSequence{DNAAlphabet{4}}, s2::LongSequence{DNAAlphabet{4}})\n",
    "    l = 0\n",
    "    for (ch1, ch2) in zip(s1, s2)\n",
    "        ch1 != ch2 && break\n",
    "        l += 1\n",
    "    end\n",
    "    return l\n",
    "end\n",
    "\n",
    "function edit_dist(s1::LongSequence{DNAAlphabet{4}}, s2::LongSequence{DNAAlphabet{4}}; max_dist::Union{Integer, Nothing} = nothing)\n",
    "    (s1 === missing) | (s2 === missing) && return missing\n",
    "    len1, len2 = length(s1), length(s2)\n",
    "    if len1 > len2\n",
    "        s1, s2 = s2, s1\n",
    "        len1, len2 = len2, len1\n",
    "    end\n",
    "    if max_dist !== nothing\n",
    "        len2 - len1 > max_dist && return Int(max_dist + 1)\n",
    "    end\n",
    "    # prefix common to both strings can be ignored\n",
    "    k = common_prefix(s1, s2)\n",
    "    k == len1 && return len2 - k\n",
    "    # first row of matrix set to distance between \"\" and s2[1:i]\n",
    "    v = collect(1:(len2-k))\n",
    "    current = 0\n",
    "    for (i1, ch1) in enumerate(s1)\n",
    "        i1 > k || continue\n",
    "        left = current = i1 - k - 1\n",
    "        if max_dist !== nothing\n",
    "            value_lb = left - 1\n",
    "        end\n",
    "        for (i2, ch2) in enumerate(s2)\n",
    "            i2 > k || continue\n",
    "            above = current\n",
    "            # cost on diagonal (substitution)\n",
    "            current = left\n",
    "            @inbounds left = v[i2 - k]\n",
    "            if ch1 != ch2\n",
    "                # minimum between substitution, deletion and insertion\n",
    "                current = min(current + 1, above + 1, left + 1)\n",
    "            end\n",
    "            if max_dist !== nothing\n",
    "                value_lb = min(value_lb, left)\n",
    "            end\n",
    "            @inbounds v[i2 - k] = current\n",
    "        end\n",
    "        if max_dist !== nothing\n",
    "            value_lb > max_dist && return Int(max_dist + 1)\n",
    "        end\n",
    "    end\n",
    "    if max_dist !== nothing\n",
    "        current > max_dist && return Int(max_dist + 1 )\n",
    "    end\n",
    "    return current\n",
    "end"
   ]
  },
  {
   "attachments": {},
   "cell_type": "markdown",
   "metadata": {},
   "source": [
    "Function to count true and false positives"
   ]
  },
  {
   "cell_type": "code",
   "execution_count": 9,
   "metadata": {},
   "outputs": [
    {
     "data": {
      "text/plain": [
       "count_false_pos (generic function with 2 methods)"
      ]
     },
     "metadata": {},
     "output_type": "display_data"
    }
   ],
   "source": [
    "# function for true positive rate\n",
    "function count_mism(vecs::Vector{Vector{Int64}}, thr::Real = 10)\n",
    "    res = [[0,0] for _ in 1:length(vecs[1])]\n",
    "\n",
    "    for i in 1:length(vecs)\n",
    "        for j in 1:length(vecs[i])\n",
    "            if vecs[i][j] < thr \n",
    "                res[j][1] += 1\n",
    "            else\n",
    "                res[j][2] += 1\n",
    "            end\n",
    "        end\n",
    "    end\n",
    "\n",
    "    # transform to rate \n",
    "    output = Float64[]\n",
    "    for pair_res in res\n",
    "        push!(output, pair_res[1]/sum(pair_res))\n",
    "    end\n",
    "    return output\n",
    "end\n",
    "\n",
    "function count_false_pos(vecs::Vector{Vector{Int64}}, thr::Real = 286)\n",
    "    res = [[0,0] for _ in 1:length(vecs[1])]\n",
    "\n",
    "    for i in 1:length(vecs)\n",
    "        for j in 1:length(vecs[i])\n",
    "            if vecs[i][j] < thr && vecs[i][j] > 0 \n",
    "                res[j][1] += 1\n",
    "            else\n",
    "                res[j][2] += 1\n",
    "            end\n",
    "        end\n",
    "    end\n",
    "\n",
    "    # transform to rate \n",
    "    output = Float64[]\n",
    "    for pair_res in res\n",
    "        push!(output, pair_res[1]/sum(pair_res))\n",
    "    end\n",
    "    return output\n",
    "end"
   ]
  },
  {
   "attachments": {},
   "cell_type": "markdown",
   "metadata": {},
   "source": [
    "# Actual analysis"
   ]
  },
  {
   "cell_type": "code",
   "execution_count": 19,
   "metadata": {},
   "outputs": [
    {
     "ename": "ErrorException",
     "evalue": "type String has no field aln",
     "output_type": "error",
     "traceback": [
      "type String has no field aln\n",
      "\n",
      "Stacktrace:\n",
      " [1] getproperty\n",
      "   @ .\\Base.jl:42 [inlined]\n",
      " [2] cigar_to_UnitRange(aligned_obj::String)\n",
      "   @ Main c:\\Users\\lu_41\\.julia\\dev\\KmerGMA\\benchmark\\KmerGMA-supplementary-material\\positive_rate_analysis.ipynb:4\n",
      " [3] gma_seq(; seq::LongSequence{DNAAlphabet{4}}, k::Int64, refVec::Vector{Float64}, windowsize::Int64, thr::Float64, buff::Int64, curr_kmer_freq::Vector{Float64}, mask::UInt64, Nt_bits::Dict{DNA, UInt64}, ScaleFactor::Float64, score_model::AffineGapScoreModel{Int64}, vgene::LongSequence{DNAAlphabet{4}}, do_align::Bool, do_return_dists::Bool)\n",
      "   @ Main c:\\Users\\lu_41\\.julia\\dev\\KmerGMA\\benchmark\\KmerGMA-supplementary-material\\positive_rate_analysis.ipynb:106\n",
      " [4] gma_tester(; mut_range::StepRangeLen{Float64, Base.TwicePrecision{Float64}, Base.TwicePrecision{Float64}, Int64}, n::Int64, seq::LongSequence{DNAAlphabet{4}}, do_mut::Bool)\n",
      "   @ Main c:\\Users\\lu_41\\.julia\\dev\\KmerGMA\\benchmark\\KmerGMA-supplementary-material\\positive_rate_analysis.ipynb:57\n",
      " [5] top-level scope\n",
      "   @ c:\\Users\\lu_41\\.julia\\dev\\KmerGMA\\benchmark\\KmerGMA-supplementary-material\\positive_rate_analysis.ipynb:4"
     ]
    }
   ],
   "source": [
    "a = [] # mutations\n",
    "for seed in 1:50\n",
    "    Random.seed!(seed)\n",
    "    push!(a, gma_tester(mut_range=0:0.005:1))\n",
    "end"
   ]
  }
 ],
 "metadata": {
  "kernelspec": {
   "display_name": "Julia 1.7.2",
   "language": "julia",
   "name": "julia-1.7"
  },
  "language_info": {
   "file_extension": ".jl",
   "mimetype": "application/julia",
   "name": "julia",
   "version": "1.7.2"
  },
  "orig_nbformat": 4
 },
 "nbformat": 4,
 "nbformat_minor": 2
}
