{
 "cells": [
  {
   "attachments": {},
   "cell_type": "markdown",
   "metadata": {},
   "source": [
    "# Derivation of a slightly more efficient Kmer Distance updating formula\n",
    "___"
   ]
  },
  {
   "attachments": {},
   "cell_type": "markdown",
   "metadata": {},
   "source": [
    "## Problem statement\n",
    "Given two vectors of real numbers $R, C$ of the same lengths $4^k$, and the following distance metric:\n",
    "\n",
    "$$KmerDist(C,R) = \\frac{1}{2k}\\sum _{i = 1}^{4^{k}}\\left(R_{i}-C_{i}\\right)^{2} $$\n",
    "\n",
    "Where k is a constant. When updating the KFV in an iteration, the operation stated in the report (page 4, equation 4) can be condensed into the following mathematical/computational problem -\n",
    " \n",
    "Simplify the following operation to minimize the number of computationally costly operations:\n",
    "\n",
    "$$ KmerDist_{new}(C,R) = KmerDist_{old}(C,R) - \\frac{1}{2k}((R_{\\Delta}-C_{\\Delta})^2 + (R_{\\delta}-C_{\\delta})^2 - (R_{\\Delta}-(C_{\\Delta} + 1))^2 - (R_{\\delta}-(C_{\\delta} - 1))^2) $$"
   ]
  },
  {
   "attachments": {},
   "cell_type": "markdown",
   "metadata": {},
   "source": [
    "## Solution\n",
    "___\n",
    "Rearranging and expanding the equation, we obtain the following:\n",
    "\n",
    "$$ \\therefore KmerDist_{new}(C,R) = KmerDist_{old}(C,R) - \\frac{1}{2k}(R_{\\Delta}-C_{\\Delta})^2 - \\frac{1}{2k}(R_{\\delta}-C_{\\delta})^2 + \\frac{1}{2k}(R_{\\Delta}-(C_{\\Delta} + 1))^2 + \\frac{1}{2k}(R_{\\delta}-(C_{\\delta} - 1))^2 $$\n",
    "\n",
    "$$ \\therefore KmerDist_{new}(C,R) = \\frac{1}{2k} \\left(2k\\cdot KmerDist_{old}(C,R) - (R_{\\Delta}-C_{\\Delta})^2 - (R_{\\delta}-C_{\\delta})^2 + (R_{\\Delta}-(C_{\\Delta} + 1))^2 + (R_{\\delta}-(C_{\\delta} - 1))^2 \\right) $$\n",
    "\n",
    "$$ \\therefore 2k\\cdot KmerDist_{new}(C,R) - 2k\\cdot KmerDist_{old}(C,R) = LHS = -(R_{\\Delta}-C_{\\Delta})^2 - (R_{\\delta}-C_{\\delta})^2 + (R_{\\Delta}-(C_{\\Delta} + 1))^2 + (R_{\\delta}-(C_{\\delta} - 1))^2 $$"
   ]
  },
  {
   "attachments": {},
   "cell_type": "markdown",
   "metadata": {},
   "source": [
    "Working just with the RHS, we can obtain the following series of expansions and simplifications:\n",
    "\n",
    "\\begin{equation*}\n",
    "    \\begin{split}\n",
    "\n",
    "        \\therefore LHS & = -(R_{\\Delta}-C_{\\Delta})^2 - (R_{\\delta}-C_{\\delta})^2 + (R_{\\Delta}-C_{\\Delta} - 1)^2 + (R_{\\delta}-C_{\\delta} + 1)^2 \\\\ \n",
    "\n",
    "        & = -(R_{\\Delta}^{2} -2R_{\\Delta}C_{\\Delta} + C_{\\Delta}^{2}) - ( R_{\\delta}^{2} -2 R_{\\delta} C_{\\delta} + C_{\\delta}^{2}) + (R_{\\Delta}-C_{\\Delta} - 1)^2 + (R_{\\delta}-C_{\\delta} + 1)^2 \\\\\n",
    "\n",
    "        & =  -R_{\\Delta}^{2}+2R_{\\Delta}C_{\\Delta}-C_{\\Delta}^{2}-R_{\\delta}^{2} +2 R_{\\delta} C_{\\delta} - C_{\\delta}^{2} \\\\\n",
    "        & + (R_{\\Delta}-C_{\\Delta} - 1)^2 + (R_{\\delta}-C_{\\delta} + 1)^2 \\\\\n",
    "\n",
    "        & =  -R_{\\Delta}^{2}+2R_{\\Delta}C_{\\Delta}-C_{\\Delta}^{2}-R_{\\delta}^{2} +2 R_{\\delta} C_{\\delta} - C_{\\delta}^{2} \\\\\n",
    "        \n",
    "            & + (R_{\\Delta}^2-2R_{\\Delta}C_{\\Delta} - 2R_{\\Delta} + C_{\\Delta}^2+2C_{\\Delta}+1) \\\\\n",
    "            & + (R_{\\delta}^2-2R_{\\delta}C_{\\delta} + 2R_{\\delta} + C_{\\delta}^2-2C_{\\delta}+1) \\\\            \n",
    "\n",
    "        & = -R_{\\Delta}^{2}+2R_{\\Delta}C_{\\Delta}-C_{\\Delta}^{2}-R_{\\delta}^{2} +2 R_{\\delta} C_{\\delta} - C_{\\delta}^{2} \\\\ \n",
    "\n",
    "            & + R_{\\Delta}^2-2R_{\\Delta}C_{\\Delta} - 2R_{\\Delta} + C_{\\Delta}^2+2C_{\\Delta} \\\\\n",
    "            & + R_{\\delta}^2-2R_{\\delta}C_{\\delta} + 2R_{\\delta} + C_{\\delta}^2-2C_{\\delta}+2 \\\\ \n",
    "\n",
    "    \\end{split}\n",
    "\\end{equation*}"
   ]
  },
  {
   "attachments": {},
   "cell_type": "markdown",
   "metadata": {},
   "source": [
    "Cancelling out conjugate squared terms yields the following simplification:\n",
    "\n",
    "\\begin{equation*}\n",
    "    \\begin{split}\n",
    "\n",
    "        \\therefore LHS & = -2R_{\\Delta} + 2C_{\\Delta} + 2R_{\\delta} - 2C_{\\delta} + 2 \\\\\n",
    "        & = 2(C_{\\Delta} + R_{\\delta}  - R_{\\Delta} - C_{\\delta}+1)\n",
    "\n",
    "    \\end{split}\n",
    "\\end{equation*}"
   ]
  },
  {
   "attachments": {},
   "cell_type": "markdown",
   "metadata": {},
   "source": [
    "Substituting the original definition for the LHS, we obtain the following:\n",
    "\n",
    "$$\\because LHS = 2k\\cdot KmerDist_{new}(C,R) - 2k\\cdot KmerDist_{old}(C,R)$$\n",
    "$$\\therefore 2k\\cdot KmerDist_{new}(C,R) = 2k\\cdot KmerDist_{old}(C,R) + 2(C_{\\Delta} + R_{\\delta}  - R_{\\Delta} - C_{\\delta}+1)$$\n",
    "$$\\therefore KmerDist_{new}(C,R) = KmerDist_{old}(C,R) + \\frac{1}{k}(C_{\\Delta} + R_{\\delta}  - R_{\\Delta} - C_{\\delta}+1)$$"
   ]
  },
  {
   "attachments": {},
   "cell_type": "markdown",
   "metadata": {},
   "source": [
    "### Comparison of the simplified and original formula\n",
    "___\n",
    "\n",
    "Comparing the new ``simplified\" formula with the original and assuming that $\\frac{1}{2k}$ and $\\frac{1}{k}$ are precomputed, we can see that for the original operation:\n",
    "\n",
    "$$ KmerDist_{new}(C,R) = KmerDist_{old}(C,R) - \\frac{1}{2k}((R_{\\Delta}-C_{\\Delta})^2 + (R_{\\delta}-C_{\\delta})^2 - (R_{\\Delta}-(C_{\\Delta} + 1))^2 - (R_{\\delta}-(C_{\\delta} - 1))^2) $$\n",
    "\n",
    "We have 10 additions/subtractions, 1 multiplication, and 4 squaring operations that are needed to obtain the new KmerDist after the window iterates."
   ]
  },
  {
   "attachments": {},
   "cell_type": "markdown",
   "metadata": {},
   "source": [
    "Comparing it to the simplified operation:\n",
    "\n",
    "$$KmerDist_{new}(C,R) = KmerDist_{old}(C,R) + \\frac{1}{k}(C_{\\Delta} + R_{\\delta}  - R_{\\Delta} - C_{\\delta}+1)$$\n",
    "\n",
    "We have 5 additions/subtractions, and 1 multiplication. This is clearly much faster in theory"
   ]
  },
  {
   "attachments": {},
   "cell_type": "markdown",
   "metadata": {},
   "source": [
    "### Implementation and verification of the simplified formula\n",
    "___\n",
    "To verify that the derivation was correct, the formulas were compiled into functions and their results were compared:"
   ]
  },
  {
   "cell_type": "code",
   "execution_count": 13,
   "metadata": {},
   "outputs": [
    {
     "data": {
      "text/plain": [
       "simplified_formula (generic function with 2 methods)"
      ]
     },
     "metadata": {},
     "output_type": "display_data"
    }
   ],
   "source": [
    "# implementation of the formulas\n",
    "function original_formula(KmerDist_old::Float64, C_D::Float64, C_d::Float64, R_D::Float64, R_d::Float64, k::Int64 = 6)\n",
    "    PreComputed_ScaleFactor::Float64 = 1/(2*k)\n",
    "    return KmerDist_old - PreComputed_ScaleFactor*((R_D-C_D)^2 +(R_d-C_d)^2 - (R_D-(C_D+1))^2 - (R_d-(C_d-1))^2)\n",
    "end\n",
    "\n",
    "function simplified_formula(KmerDist_old::Float64, C_D::Float64, C_d::Float64, R_D::Float64, R_d::Float64, k::Int64 = 6)\n",
    "    PreComputed_ScaleFactor::Float64 = 1/k\n",
    "    return KmerDist_old + PreComputed_ScaleFactor*(C_D+R_d-R_D-C_d+1)\n",
    "end"
   ]
  },
  {
   "cell_type": "code",
   "execution_count": 14,
   "metadata": {},
   "outputs": [
    {
     "name": "stdout",
     "output_type": "stream",
     "text": [
      "Result obtained by the original formula:\n",
      "32.0\n",
      "Result obtained by the simplified formula\n",
      "32.0\n"
     ]
    }
   ],
   "source": [
    "# testing the formulas with arbitray numbers that are typically found in KmerGMA:\n",
    "\n",
    "KmerDist_old = Float64(32.5)\n",
    "C_D, R_D = Float64(1), Float64(2)\n",
    "C_d, R_d = Float64(3), Float64(0) \n",
    "\n",
    "println(\"Result obtained by the original formula:\")\n",
    "println(original_formula(KmerDist_old, C_D, C_d, R_D, R_d))\n",
    "println(\"Result obtained by the simplified formula\")\n",
    "println(simplified_formula(KmerDist_old, C_D, C_d, R_D, R_d))"
   ]
  },
  {
   "attachments": {},
   "cell_type": "markdown",
   "metadata": {},
   "source": [
    "As a sanity check, a large variety of random values can be simulated and it can be checked whether any of the results varied. (Floating point errors may be present but it should be okay)"
   ]
  },
  {
   "cell_type": "code",
   "execution_count": 15,
   "metadata": {},
   "outputs": [
    {
     "name": "stdout",
     "output_type": "stream",
     "text": [
      "Were any results different? false\n"
     ]
    }
   ],
   "source": [
    "using Random, Plots\n",
    "\n",
    "function any_difference(num_range::Int64; seed::Int64 = 42)\n",
    "    Random.seed!(seed)\n",
    "    is_there_any_difference = false\n",
    "\n",
    "    for trial in 1:num_range\n",
    "        KmerDist_old = Float64(rand(1:num_range))\n",
    "        C_D, R_D = Float64(rand(1:num_range)), Float64(rand(1:num_range))\n",
    "        C_d, R_d = Float64(rand(1:num_range)), Float64(rand(1:num_range)) \n",
    "        \n",
    "        original_formula_output = original_formula(KmerDist_old, C_D, C_d, R_D, R_d)\n",
    "        simplified_formula_output = simplified_formula(KmerDist_old, C_D, C_d, R_D, R_d)\n",
    "\n",
    "        if original_formula_output != simplified_formula_output\n",
    "            is_there_any_difference = true\n",
    "        end\n",
    "    end\n",
    "    return is_there_any_difference\n",
    "end\n",
    "\n",
    "println(\"Were any results different? \"*string(any_difference(10^6)))"
   ]
  },
  {
   "attachments": {},
   "cell_type": "markdown",
   "metadata": {},
   "source": [
    "With none of the 1 million trials returning different results for the two formulas, this solidifies the fact that the simplified formula was derived correctly."
   ]
  },
  {
   "attachments": {},
   "cell_type": "markdown",
   "metadata": {},
   "source": [
    "### Benchmarking of the formulas\n",
    "___\n",
    "The input values were purposely made quite large to try and quantify and difference in runtime. "
   ]
  },
  {
   "cell_type": "code",
   "execution_count": 5,
   "metadata": {},
   "outputs": [
    {
     "data": {
      "text/plain": [
       "(5.0331648e7, 144.0)"
      ]
     },
     "metadata": {},
     "output_type": "display_data"
    }
   ],
   "source": [
    "using BenchmarkTools\n",
    "\n",
    "KmerDist_old = Float64(2 << 20)\n",
    "C_D, R_D = Float64(2 << 11), Float64(2 << 8)\n",
    "C_d, R_d = Float64(3 << 24), Float64(9 << 4) "
   ]
  },
  {
   "cell_type": "code",
   "execution_count": 6,
   "metadata": {},
   "outputs": [
    {
     "data": {
      "text/plain": [
       "BenchmarkTools.Trial: 10000 samples with 1000 evaluations.\n",
       " Range \u001b[90m(\u001b[39m\u001b[36m\u001b[1mmin\u001b[22m\u001b[39m … \u001b[35mmax\u001b[39m\u001b[90m):  \u001b[39m\u001b[36m\u001b[1m5.500 ns\u001b[22m\u001b[39m … \u001b[35m107.200 ns\u001b[39m  \u001b[90m┊\u001b[39m GC \u001b[90m(\u001b[39mmin … max\u001b[90m): \u001b[39m0.00% … 0.00%\n",
       " Time  \u001b[90m(\u001b[39m\u001b[34m\u001b[1mmedian\u001b[22m\u001b[39m\u001b[90m):     \u001b[39m\u001b[34m\u001b[1m6.100 ns               \u001b[22m\u001b[39m\u001b[90m┊\u001b[39m GC \u001b[90m(\u001b[39mmedian\u001b[90m):    \u001b[39m0.00%\n",
       " Time  \u001b[90m(\u001b[39m\u001b[32m\u001b[1mmean\u001b[22m\u001b[39m ± \u001b[32mσ\u001b[39m\u001b[90m):   \u001b[39m\u001b[32m\u001b[1m6.594 ns\u001b[22m\u001b[39m ± \u001b[32m  2.499 ns\u001b[39m  \u001b[90m┊\u001b[39m GC \u001b[90m(\u001b[39mmean ± σ\u001b[90m):  \u001b[39m0.00% ± 0.00%\n",
       "\n",
       "  \u001b[39m▇\u001b[39m▅\u001b[39m█\u001b[39m▄\u001b[39m▇\u001b[34m▆\u001b[39m\u001b[39m▃\u001b[39m█\u001b[39m▂\u001b[39m▆\u001b[32m▄\u001b[39m\u001b[39m \u001b[39m \u001b[39m \u001b[39m \u001b[39m \u001b[39m \u001b[39m \u001b[39m \u001b[39m \u001b[39m \u001b[39m \u001b[39m \u001b[39m \u001b[39m \u001b[39m \u001b[39m \u001b[39m \u001b[39m \u001b[39m \u001b[39m \u001b[39m \u001b[39m \u001b[39m \u001b[39m \u001b[39m \u001b[39m▁\u001b[39m \u001b[39m \u001b[39m \u001b[39m \u001b[39m \u001b[39m \u001b[39m \u001b[39m▁\u001b[39m \u001b[39m \u001b[39m \u001b[39m \u001b[39m \u001b[39m \u001b[39m \u001b[39m \u001b[39m \u001b[39m \u001b[39m \u001b[39m \u001b[39m \u001b[39m \u001b[39m \u001b[39m▂\n",
       "  \u001b[39m█\u001b[39m█\u001b[39m█\u001b[39m█\u001b[39m█\u001b[34m█\u001b[39m\u001b[39m█\u001b[39m█\u001b[39m█\u001b[39m█\u001b[32m█\u001b[39m\u001b[39m▇\u001b[39m▇\u001b[39m▇\u001b[39m█\u001b[39m▇\u001b[39m▇\u001b[39m▆\u001b[39m▆\u001b[39m▇\u001b[39m▇\u001b[39m▆\u001b[39m▆\u001b[39m▄\u001b[39m▆\u001b[39m▅\u001b[39m▅\u001b[39m▆\u001b[39m▆\u001b[39m█\u001b[39m▇\u001b[39m▇\u001b[39m█\u001b[39m█\u001b[39m▇\u001b[39m█\u001b[39m█\u001b[39m▆\u001b[39m▇\u001b[39m▇\u001b[39m█\u001b[39m█\u001b[39m█\u001b[39m█\u001b[39m█\u001b[39m▇\u001b[39m▇\u001b[39m▇\u001b[39m▇\u001b[39m▅\u001b[39m▆\u001b[39m█\u001b[39m█\u001b[39m█\u001b[39m▆\u001b[39m▇\u001b[39m█\u001b[39m█\u001b[39m▆\u001b[39m \u001b[39m█\n",
       "  5.5 ns\u001b[90m       \u001b[39m\u001b[90mHistogram: \u001b[39m\u001b[90m\u001b[1mlog(\u001b[22m\u001b[39m\u001b[90mfrequency\u001b[39m\u001b[90m\u001b[1m)\u001b[22m\u001b[39m\u001b[90m by time\u001b[39m      12.2 ns \u001b[0m\u001b[1m<\u001b[22m\n",
       "\n",
       " Memory estimate\u001b[90m: \u001b[39m\u001b[33m0 bytes\u001b[39m, allocs estimate\u001b[90m: \u001b[39m\u001b[33m0\u001b[39m."
      ]
     },
     "metadata": {},
     "output_type": "display_data"
    }
   ],
   "source": [
    "@benchmark original_formula(KmerDist_old, C_D, C_d, R_D, R_d)"
   ]
  },
  {
   "cell_type": "code",
   "execution_count": 8,
   "metadata": {},
   "outputs": [
    {
     "data": {
      "text/plain": [
       "BenchmarkTools.Trial: 10000 samples with 1000 evaluations.\n",
       " Range \u001b[90m(\u001b[39m\u001b[36m\u001b[1mmin\u001b[22m\u001b[39m … \u001b[35mmax\u001b[39m\u001b[90m):  \u001b[39m\u001b[36m\u001b[1m5.300 ns\u001b[22m\u001b[39m … \u001b[35m126.600 ns\u001b[39m  \u001b[90m┊\u001b[39m GC \u001b[90m(\u001b[39mmin … max\u001b[90m): \u001b[39m0.00% … 0.00%\n",
       " Time  \u001b[90m(\u001b[39m\u001b[34m\u001b[1mmedian\u001b[22m\u001b[39m\u001b[90m):     \u001b[39m\u001b[34m\u001b[1m5.800 ns               \u001b[22m\u001b[39m\u001b[90m┊\u001b[39m GC \u001b[90m(\u001b[39mmedian\u001b[90m):    \u001b[39m0.00%\n",
       " Time  \u001b[90m(\u001b[39m\u001b[32m\u001b[1mmean\u001b[22m\u001b[39m ± \u001b[32mσ\u001b[39m\u001b[90m):   \u001b[39m\u001b[32m\u001b[1m5.945 ns\u001b[22m\u001b[39m ± \u001b[32m  2.008 ns\u001b[39m  \u001b[90m┊\u001b[39m GC \u001b[90m(\u001b[39mmean ± σ\u001b[90m):  \u001b[39m0.00% ± 0.00%\n",
       "\n",
       "  \u001b[39m \u001b[39m█\u001b[39m▆\u001b[39m \u001b[39m \u001b[39m \u001b[39m \u001b[34m \u001b[39m\u001b[39m▄\u001b[32m▄\u001b[39m\u001b[39m \u001b[39m \u001b[39m \u001b[39m \u001b[39m \u001b[39m \u001b[39m \u001b[39m \u001b[39m \u001b[39m \u001b[39m \u001b[39m \u001b[39m \u001b[39m \u001b[39m \u001b[39m \u001b[39m \u001b[39m \u001b[39m \u001b[39m \u001b[39m \u001b[39m \u001b[39m \u001b[39m \u001b[39m \u001b[39m \u001b[39m \u001b[39m \u001b[39m \u001b[39m \u001b[39m \u001b[39m \u001b[39m \u001b[39m \u001b[39m \u001b[39m \u001b[39m \u001b[39m \u001b[39m \u001b[39m \u001b[39m \u001b[39m \u001b[39m \u001b[39m \u001b[39m \u001b[39m \u001b[39m \u001b[39m \u001b[39m \u001b[39m \u001b[39m \n",
       "  \u001b[39m▂\u001b[39m█\u001b[39m█\u001b[39m▁\u001b[39m▂\u001b[39m▂\u001b[39m▁\u001b[34m█\u001b[39m\u001b[39m█\u001b[32m█\u001b[39m\u001b[39m▁\u001b[39m▃\u001b[39m▂\u001b[39m▁\u001b[39m▂\u001b[39m▄\u001b[39m▃\u001b[39m▁\u001b[39m▂\u001b[39m▂\u001b[39m▁\u001b[39m▂\u001b[39m▂\u001b[39m▂\u001b[39m▁\u001b[39m▂\u001b[39m▂\u001b[39m▁\u001b[39m▂\u001b[39m▂\u001b[39m▂\u001b[39m▁\u001b[39m▂\u001b[39m▃\u001b[39m▁\u001b[39m▂\u001b[39m▂\u001b[39m▂\u001b[39m▁\u001b[39m▂\u001b[39m▂\u001b[39m▁\u001b[39m▂\u001b[39m▂\u001b[39m▂\u001b[39m▁\u001b[39m▂\u001b[39m▂\u001b[39m▁\u001b[39m▂\u001b[39m▂\u001b[39m▂\u001b[39m▁\u001b[39m▂\u001b[39m▂\u001b[39m▁\u001b[39m▂\u001b[39m▂\u001b[39m▂\u001b[39m \u001b[39m▃\n",
       "  5.3 ns\u001b[90m          Histogram: frequency by time\u001b[39m         9.5 ns \u001b[0m\u001b[1m<\u001b[22m\n",
       "\n",
       " Memory estimate\u001b[90m: \u001b[39m\u001b[33m0 bytes\u001b[39m, allocs estimate\u001b[90m: \u001b[39m\u001b[33m0\u001b[39m."
      ]
     },
     "metadata": {},
     "output_type": "display_data"
    }
   ],
   "source": [
    "@benchmark simplified_formula(KmerDist_old, C_D, C_d, R_D, R_d)"
   ]
  },
  {
   "attachments": {},
   "cell_type": "markdown",
   "metadata": {},
   "source": [
    "From the benchmarking it can be noticed that the runtime saved is seemingly negligible, but this may not be the case when the formulas are used repeatedly as they do in KmerGMA. To test thhis, the following functions can be used:"
   ]
  },
  {
   "cell_type": "code",
   "execution_count": 9,
   "metadata": {},
   "outputs": [
    {
     "data": {
      "text/plain": [
       "test_simplified (generic function with 2 methods)"
      ]
     },
     "metadata": {},
     "output_type": "display_data"
    }
   ],
   "source": [
    "function test_original(trials::Int64 = 10^6)\n",
    "    PreComputed_ScaleFactor = 0.125 # for k = 4\n",
    "    result_variable = 0\n",
    "    for trial in trials\n",
    "        result_variable = KmerDist_old - PreComputed_ScaleFactor*((R_D-C_D)^2 +(R_d-C_d)^2 - (R_D-(C_D+1))^2 - (R_d-(C_d-1))^2)\n",
    "    end\n",
    "end\n",
    "\n",
    "function test_simplified(trials::Int64 = 10^6)\n",
    "    PreComputed_ScaleFactor = 0.25 # for k = 4\n",
    "    result_variable = 0\n",
    "    for trial in trials\n",
    "        result_variable = KmerDist_old + PreComputed_ScaleFactor*(C_D+R_d-R_D-C_d)\n",
    "    end\n",
    "end"
   ]
  },
  {
   "cell_type": "code",
   "execution_count": 10,
   "metadata": {},
   "outputs": [
    {
     "data": {
      "text/plain": [
       "BenchmarkTools.Trial: 10000 samples with 413 evaluations.\n",
       " Range \u001b[90m(\u001b[39m\u001b[36m\u001b[1mmin\u001b[22m\u001b[39m … \u001b[35mmax\u001b[39m\u001b[90m):  \u001b[39m\u001b[36m\u001b[1m241.889 ns\u001b[22m\u001b[39m … \u001b[35m  5.187 μs\u001b[39m  \u001b[90m┊\u001b[39m GC \u001b[90m(\u001b[39mmin … max\u001b[90m): \u001b[39m0.00% … 92.71%\n",
       " Time  \u001b[90m(\u001b[39m\u001b[34m\u001b[1mmedian\u001b[22m\u001b[39m\u001b[90m):     \u001b[39m\u001b[34m\u001b[1m247.700 ns               \u001b[22m\u001b[39m\u001b[90m┊\u001b[39m GC \u001b[90m(\u001b[39mmedian\u001b[90m):    \u001b[39m0.00%\n",
       " Time  \u001b[90m(\u001b[39m\u001b[32m\u001b[1mmean\u001b[22m\u001b[39m ± \u001b[32mσ\u001b[39m\u001b[90m):   \u001b[39m\u001b[32m\u001b[1m281.123 ns\u001b[22m\u001b[39m ± \u001b[32m131.914 ns\u001b[39m  \u001b[90m┊\u001b[39m GC \u001b[90m(\u001b[39mmean ± σ\u001b[90m):  \u001b[39m1.83% ±  4.03%\n",
       "\n",
       "  \u001b[39m█\u001b[34m▇\u001b[39m\u001b[39m▃\u001b[39m▂\u001b[39m▁\u001b[39m▂\u001b[39m▄\u001b[39m▄\u001b[39m▃\u001b[32m▂\u001b[39m\u001b[39m▂\u001b[39m▂\u001b[39m▂\u001b[39m▁\u001b[39m▂\u001b[39m▃\u001b[39m▂\u001b[39m▁\u001b[39m▁\u001b[39m▂\u001b[39m▁\u001b[39m▁\u001b[39m▁\u001b[39m▁\u001b[39m▁\u001b[39m▁\u001b[39m \u001b[39m \u001b[39m \u001b[39m \u001b[39m \u001b[39m \u001b[39m \u001b[39m \u001b[39m \u001b[39m \u001b[39m \u001b[39m \u001b[39m \u001b[39m \u001b[39m \u001b[39m \u001b[39m \u001b[39m \u001b[39m \u001b[39m \u001b[39m \u001b[39m \u001b[39m \u001b[39m \u001b[39m \u001b[39m \u001b[39m \u001b[39m \u001b[39m \u001b[39m \u001b[39m \u001b[39m \u001b[39m \u001b[39m \u001b[39m \u001b[39m \u001b[39m▂\n",
       "  \u001b[39m█\u001b[34m█\u001b[39m\u001b[39m█\u001b[39m█\u001b[39m█\u001b[39m█\u001b[39m█\u001b[39m█\u001b[39m█\u001b[32m█\u001b[39m\u001b[39m█\u001b[39m█\u001b[39m█\u001b[39m█\u001b[39m█\u001b[39m█\u001b[39m█\u001b[39m█\u001b[39m█\u001b[39m█\u001b[39m█\u001b[39m█\u001b[39m█\u001b[39m█\u001b[39m█\u001b[39m█\u001b[39m█\u001b[39m█\u001b[39m█\u001b[39m█\u001b[39m▇\u001b[39m▇\u001b[39m█\u001b[39m▇\u001b[39m█\u001b[39m▇\u001b[39m▇\u001b[39m▇\u001b[39m▇\u001b[39m▇\u001b[39m▇\u001b[39m▇\u001b[39m▆\u001b[39m▆\u001b[39m▇\u001b[39m▆\u001b[39m▆\u001b[39m▆\u001b[39m▆\u001b[39m▆\u001b[39m▅\u001b[39m▅\u001b[39m▆\u001b[39m▅\u001b[39m▄\u001b[39m▆\u001b[39m▄\u001b[39m▅\u001b[39m▅\u001b[39m▄\u001b[39m▅\u001b[39m \u001b[39m█\n",
       "  242 ns\u001b[90m        \u001b[39m\u001b[90mHistogram: \u001b[39m\u001b[90m\u001b[1mlog(\u001b[22m\u001b[39m\u001b[90mfrequency\u001b[39m\u001b[90m\u001b[1m)\u001b[22m\u001b[39m\u001b[90m by time\u001b[39m        509 ns \u001b[0m\u001b[1m<\u001b[22m\n",
       "\n",
       " Memory estimate\u001b[90m: \u001b[39m\u001b[33m240 bytes\u001b[39m, allocs estimate\u001b[90m: \u001b[39m\u001b[33m15\u001b[39m."
      ]
     },
     "metadata": {},
     "output_type": "display_data"
    }
   ],
   "source": [
    "@benchmark test_original()"
   ]
  },
  {
   "cell_type": "code",
   "execution_count": 11,
   "metadata": {},
   "outputs": [
    {
     "data": {
      "text/plain": [
       "BenchmarkTools.Trial: 10000 samples with 964 evaluations.\n",
       " Range \u001b[90m(\u001b[39m\u001b[36m\u001b[1mmin\u001b[22m\u001b[39m … \u001b[35mmax\u001b[39m\u001b[90m):  \u001b[39m\u001b[36m\u001b[1m81.017 ns\u001b[22m\u001b[39m … \u001b[35m 2.078 μs\u001b[39m  \u001b[90m┊\u001b[39m GC \u001b[90m(\u001b[39mmin … max\u001b[90m): \u001b[39m0.00% … 94.94%\n",
       " Time  \u001b[90m(\u001b[39m\u001b[34m\u001b[1mmedian\u001b[22m\u001b[39m\u001b[90m):     \u001b[39m\u001b[34m\u001b[1m88.278 ns              \u001b[22m\u001b[39m\u001b[90m┊\u001b[39m GC \u001b[90m(\u001b[39mmedian\u001b[90m):    \u001b[39m0.00%\n",
       " Time  \u001b[90m(\u001b[39m\u001b[32m\u001b[1mmean\u001b[22m\u001b[39m ± \u001b[32mσ\u001b[39m\u001b[90m):   \u001b[39m\u001b[32m\u001b[1m98.203 ns\u001b[22m\u001b[39m ± \u001b[32m54.314 ns\u001b[39m  \u001b[90m┊\u001b[39m GC \u001b[90m(\u001b[39mmean ± σ\u001b[90m):  \u001b[39m1.92% ±  3.63%\n",
       "\n",
       "  \u001b[39m▄\u001b[39m█\u001b[39m▇\u001b[39m▆\u001b[34m▆\u001b[39m\u001b[39m▅\u001b[39m▅\u001b[39m▄\u001b[39m▃\u001b[32m▂\u001b[39m\u001b[39m▃\u001b[39m▃\u001b[39m▃\u001b[39m▃\u001b[39m▂\u001b[39m▂\u001b[39m▂\u001b[39m▁\u001b[39m▁\u001b[39m▂\u001b[39m▁\u001b[39m▂\u001b[39m▂\u001b[39m▁\u001b[39m \u001b[39m \u001b[39m \u001b[39m \u001b[39m \u001b[39m \u001b[39m \u001b[39m \u001b[39m \u001b[39m \u001b[39m \u001b[39m \u001b[39m \u001b[39m \u001b[39m \u001b[39m \u001b[39m \u001b[39m \u001b[39m \u001b[39m \u001b[39m \u001b[39m \u001b[39m \u001b[39m \u001b[39m \u001b[39m \u001b[39m \u001b[39m \u001b[39m \u001b[39m \u001b[39m \u001b[39m \u001b[39m \u001b[39m \u001b[39m \u001b[39m \u001b[39m▂\n",
       "  \u001b[39m█\u001b[39m█\u001b[39m█\u001b[39m█\u001b[34m█\u001b[39m\u001b[39m█\u001b[39m█\u001b[39m█\u001b[39m█\u001b[32m█\u001b[39m\u001b[39m█\u001b[39m█\u001b[39m█\u001b[39m█\u001b[39m█\u001b[39m█\u001b[39m█\u001b[39m█\u001b[39m█\u001b[39m█\u001b[39m█\u001b[39m█\u001b[39m█\u001b[39m█\u001b[39m█\u001b[39m█\u001b[39m█\u001b[39m█\u001b[39m█\u001b[39m█\u001b[39m█\u001b[39m█\u001b[39m▇\u001b[39m▇\u001b[39m█\u001b[39m▇\u001b[39m▇\u001b[39m▇\u001b[39m▇\u001b[39m▇\u001b[39m▇\u001b[39m▇\u001b[39m▇\u001b[39m▆\u001b[39m▇\u001b[39m▆\u001b[39m▆\u001b[39m▆\u001b[39m▇\u001b[39m▆\u001b[39m▆\u001b[39m▆\u001b[39m▆\u001b[39m▆\u001b[39m▄\u001b[39m▅\u001b[39m▄\u001b[39m▅\u001b[39m▄\u001b[39m \u001b[39m█\n",
       "  81 ns\u001b[90m        \u001b[39m\u001b[90mHistogram: \u001b[39m\u001b[90m\u001b[1mlog(\u001b[22m\u001b[39m\u001b[90mfrequency\u001b[39m\u001b[90m\u001b[1m)\u001b[22m\u001b[39m\u001b[90m by time\u001b[39m       189 ns \u001b[0m\u001b[1m<\u001b[22m\n",
       "\n",
       " Memory estimate\u001b[90m: \u001b[39m\u001b[33m80 bytes\u001b[39m, allocs estimate\u001b[90m: \u001b[39m\u001b[33m5\u001b[39m."
      ]
     },
     "metadata": {},
     "output_type": "display_data"
    }
   ],
   "source": [
    "@benchmark test_simplified()"
   ]
  },
  {
   "attachments": {},
   "cell_type": "markdown",
   "metadata": {},
   "source": [
    "From the benchmarking results it can be pleasantly be seen that there is a very large improvement in running time of about 2.8 times with the improved formula, and there is also less variance in the running speed, likely due to the reduced number of memory allocations since squaring is no longer nessecary."
   ]
  }
 ],
 "metadata": {
  "kernelspec": {
   "display_name": "Julia 1.7.2",
   "language": "julia",
   "name": "julia-1.7"
  },
  "language_info": {
   "file_extension": ".jl",
   "mimetype": "application/julia",
   "name": "julia",
   "version": "1.7.2"
  },
  "orig_nbformat": 4
 },
 "nbformat": 4,
 "nbformat_minor": 2
}
